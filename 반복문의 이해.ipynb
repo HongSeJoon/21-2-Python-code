{
  "nbformat": 4,
  "nbformat_minor": 0,
  "metadata": {
    "colab": {
      "name": "Untitled4.ipynb",
      "provenance": [],
      "collapsed_sections": [],
      "authorship_tag": "ABX9TyNIuTZ2kgYPfmF8lDAF7Mhe",
      "include_colab_link": true
    },
    "kernelspec": {
      "name": "python3",
      "display_name": "Python 3"
    },
    "language_info": {
      "name": "python"
    }
  },
  "cells": [
    {
      "cell_type": "markdown",
      "metadata": {
        "id": "view-in-github",
        "colab_type": "text"
      },
      "source": [
        "<a href=\"https://colab.research.google.com/github/HongSeJoon/21-2-Python-code/blob/main/%EB%B0%98%EB%B3%B5%EB%AC%B8%EC%9D%98%20%EC%9D%B4%ED%95%B4.ipynb\" target=\"_parent\"><img src=\"https://colab.research.google.com/assets/colab-badge.svg\" alt=\"Open In Colab\"/></a>"
      ]
    },
    {
      "cell_type": "markdown",
      "metadata": {
        "id": "XjrLPHBB5CtP"
      },
      "source": [
        "# **학습목표**\n",
        " * 반복문의 이해 및 활용(for)\n",
        " * range 함수 이해"
      ]
    },
    {
      "cell_type": "markdown",
      "metadata": {
        "id": "Iu9qIwJP5Cln"
      },
      "source": [
        "# **For 반복문**\n",
        " * 리스트,문자열 등 순회 가능한 것들의 값을 처리할 때 사용\n",
        " * i는 매번 수행될 때마다 a 안의 값으로 순차적으로 변경이된다.\n",
        " * 모든 a 안의 값이 수행되면 for문 블록이 종료"
      ]
    },
    {
      "cell_type": "code",
      "metadata": {
        "id": "yFGZz1875IWX",
        "colab": {
          "base_uri": "https://localhost:8080/"
        },
        "outputId": "9e06f49f-d9bd-4a38-b2d2-6c0daa4628af"
      },
      "source": [
        "a = [1,2,3,4,5]\n",
        "\n",
        "for i in a:\n",
        "  print(i, i*2)\n",
        "print('\\ni 최종값 :', i)"
      ],
      "execution_count": 3,
      "outputs": [
        {
          "output_type": "stream",
          "name": "stdout",
          "text": [
            "1 2\n",
            "2 4\n",
            "3 6\n",
            "4 8\n",
            "5 10\n",
            "\n",
            "i 최종값 : 5\n"
          ]
        }
      ]
    },
    {
      "cell_type": "code",
      "metadata": {
        "colab": {
          "base_uri": "https://localhost:8080/"
        },
        "id": "enDWB3tw_s6O",
        "outputId": "e27329f2-9455-4155-bbb0-87c34a7fe22d"
      },
      "source": [
        "#문자열의 아이템 출력하기\n",
        "\n",
        "for x in 'hello world' : \n",
        "  print(x)"
      ],
      "execution_count": 4,
      "outputs": [
        {
          "output_type": "stream",
          "name": "stdout",
          "text": [
            "h\n",
            "e\n",
            "l\n",
            "l\n",
            "o\n",
            " \n",
            "w\n",
            "o\n",
            "r\n",
            "l\n",
            "d\n"
          ]
        }
      ]
    },
    {
      "cell_type": "code",
      "metadata": {
        "colab": {
          "base_uri": "https://localhost:8080/"
        },
        "id": "ZyH6b2VU__US",
        "outputId": "0f3f7182-5e60-4c59-ee8d-b494fc39ab38"
      },
      "source": [
        "a = [1,10,7,29,18]\n",
        "\n",
        "for i in a :\n",
        "  if i % 2 == 0 : #짝수\n",
        "   print(i//2)\n",
        "else :\n",
        "    print(i*2)\n"
      ],
      "execution_count": 10,
      "outputs": [
        {
          "output_type": "stream",
          "name": "stdout",
          "text": [
            "5\n",
            "9\n",
            "36\n"
          ]
        }
      ]
    },
    {
      "cell_type": "markdown",
      "metadata": {
        "id": "7zOc2y6IBA8k"
      },
      "source": [
        "### **break**\n",
        "- for의 경우에 특정 조건을 만족할 때 \n"
      ]
    },
    {
      "cell_type": "code",
      "metadata": {
        "colab": {
          "base_uri": "https://localhost:8080/"
        },
        "id": "rBHchxsjBSM5",
        "outputId": "d7e53a4a-b0e7-428e-b661-e3950513ad02"
      },
      "source": [
        "#a = [1,10,7,29,18]\n",
        "for i in a :\n",
        "  if i>20 :\n",
        "    break\n",
        "print(i)\n"
      ],
      "execution_count": 13,
      "outputs": [
        {
          "output_type": "stream",
          "name": "stdout",
          "text": [
            "29\n"
          ]
        }
      ]
    },
    {
      "cell_type": "markdown",
      "metadata": {
        "id": "cIgiSHh-CCVv"
      },
      "source": [
        "## **continue**\n",
        "- 해당 아이템을 건너 뛰고 싶을 때 사용"
      ]
    },
    {
      "cell_type": "code",
      "metadata": {
        "colab": {
          "base_uri": "https://localhost:8080/"
        },
        "id": "AD1FlmhbCObz",
        "outputId": "d9929ae9-85d9-443d-fedd-394064af74c2"
      },
      "source": [
        "a = [3,10,7,29,18]\n",
        "\n",
        "for i in a :\n",
        "  if i>5 and  i<20 :\n",
        "    continue\n",
        "  print(i)"
      ],
      "execution_count": 16,
      "outputs": [
        {
          "output_type": "stream",
          "name": "stdout",
          "text": [
            "3\n",
            "29\n"
          ]
        }
      ]
    }
  ]
}