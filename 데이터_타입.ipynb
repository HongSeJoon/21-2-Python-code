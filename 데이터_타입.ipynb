{
  "nbformat": 4,
  "nbformat_minor": 0,
  "metadata": {
    "colab": {
      "name": "데이터 타입.ipynb",
      "provenance": [],
      "collapsed_sections": [],
      "authorship_tag": "ABX9TyNj+/xg453hrAJmeMvQ56b6",
      "include_colab_link": true
    },
    "kernelspec": {
      "name": "python3",
      "display_name": "Python 3"
    },
    "language_info": {
      "name": "python"
    }
  },
  "cells": [
    {
      "cell_type": "markdown",
      "metadata": {
        "id": "view-in-github",
        "colab_type": "text"
      },
      "source": [
        "<a href=\"https://colab.research.google.com/github/HongSeJoon/21-2-Python-code/blob/main/%EB%8D%B0%EC%9D%B4%ED%84%B0_%ED%83%80%EC%9E%85.ipynb\" target=\"_parent\"><img src=\"https://colab.research.google.com/assets/colab-badge.svg\" alt=\"Open In Colab\"/></a>"
      ]
    },
    {
      "cell_type": "markdown",
      "metadata": {
        "id": "9r8V8CZmrGz7"
      },
      "source": [
        "### **학습목표**\n",
        "- dictionary,set에 대해 이해하기"
      ]
    },
    {
      "cell_type": "markdown",
      "metadata": {
        "id": "odOx4GE9uNPT"
      },
      "source": [
        "**Dictionary**\n",
        "- 키와 값을 갖는 데이터 구조\n",
        "- 키는 내부적으로 hash값으로 저장\n",
        "- 순서를 따지지 않음."
      ]
    },
    {
      "cell_type": "code",
      "metadata": {
        "colab": {
          "base_uri": "https://localhost:8080/"
        },
        "id": "0-qty7Vuu2Xb",
        "outputId": "7ecf6fb6-69b3-42c5-e59b-431ff35e55af"
      },
      "source": [
        "a = {'korea' : 'Seoul',\n",
        "    'Canada' : 'Ottawa',\n",
        "     'USA ' : 'Washington D.C'}\n",
        "b = {0:1, 1:6, 7:9, 8:10}\n",
        "\n",
        "print(a)\n",
        "print(a['korea'])\n",
        "print(b[1])\n",
        "print(b[0])"
      ],
      "execution_count": 5,
      "outputs": [
        {
          "output_type": "stream",
          "name": "stdout",
          "text": [
            "{'korea': 'Seoul', 'Canada': 'Ottawa', 'USA ': 'Washington D.C'}\n",
            "Seoul\n",
            "6\n",
            "1\n"
          ]
        }
      ]
    },
    {
      "cell_type": "markdown",
      "metadata": {
        "id": "WnARIsgkwDEL"
      },
      "source": [
        "### **항목 추가 및 변경**\n",
        "- 기존에 키가 존재하면,새로운 값으로 업데이트\n",
        "- 기존에 키가 없다면, 새로운 키값으로 생성"
      ]
    },
    {
      "cell_type": "code",
      "metadata": {
        "colab": {
          "base_uri": "https://localhost:8080/"
        },
        "id": "srqEF35IwRrL",
        "outputId": "48adc186-8549-4e85-94bd-719f9c2f5d77"
      },
      "source": [
        "a['Japna'] = 'Tokyo'\n",
        "a['Japna'] = 'Osaka'\n",
        "a['China'] = 'Beijing'\n",
        "print(a)"
      ],
      "execution_count": 9,
      "outputs": [
        {
          "output_type": "stream",
          "name": "stdout",
          "text": [
            "{'korea': 'Seoul', 'Canada': 'Ottawa', 'USA ': 'Washington D.C', 'Japna': 'Osaka', 'China': 'Beijing'}\n"
          ]
        }
      ]
    },
    {
      "cell_type": "markdown",
      "metadata": {
        "id": "SGJNo7cqxBdL"
      },
      "source": [
        "- update()\n",
        " - 두 딕셔너리를 병함\n",
        " - 겹치는 키가 있따면, 전달되는 값이 업데이트 된다"
      ]
    },
    {
      "cell_type": "code",
      "metadata": {
        "colab": {
          "base_uri": "https://localhost:8080/"
        },
        "id": "sDXSlb3nxMwU",
        "outputId": "a76c3d86-8bb9-41de-b9b5-c7ae27be11fe"
      },
      "source": [
        "a = {'a' :'apple', 'b' : 'banana', 'c' : 'car'}\n",
        "b = {'b' :'bus', 'c' :'caramel', 'd' : 'dynamite', 'e' : 'education'}\n",
        "print(a)\n",
        "a.update(b)\n",
        "print(a)"
      ],
      "execution_count": 14,
      "outputs": [
        {
          "output_type": "stream",
          "name": "stdout",
          "text": [
            "{'a': 'apple', 'b': 'banana', 'c': 'car'}\n",
            "{'a': 'apple', 'b': 'bus', 'c': 'caramel', 'd': 'dynamite', 'e': 'education'}\n"
          ]
        }
      ]
    },
    {
      "cell_type": "markdown",
      "metadata": {
        "id": "OvU4ff1W5alO"
      },
      "source": [
        "**key 삭제**\n",
        "- del 키워드\n",
        "- pop 함수 이용"
      ]
    },
    {
      "cell_type": "code",
      "metadata": {
        "colab": {
          "base_uri": "https://localhost:8080/"
        },
        "id": "emFJBasJ5fwE",
        "outputId": "78ec8420-416d-4cf7-9c39-2f547df69b8a"
      },
      "source": [
        "a = {'a' : 1, 'b' : 2, 'c' : 3}\n",
        "print(a)\n",
        "\n",
        "del a['a']\n",
        "print(a)\n",
        "\n",
        "c = a.pop('b')\n",
        "print(c)"
      ],
      "execution_count": 19,
      "outputs": [
        {
          "output_type": "stream",
          "name": "stdout",
          "text": [
            "{'a': 1, 'b': 2, 'c': 3}\n",
            "{'b': 2, 'c': 3}\n",
            "2\n"
          ]
        }
      ]
    },
    {
      "cell_type": "markdown",
      "metadata": {
        "id": "9lnav3ZD73D2"
      },
      "source": [
        "**clear()**\n",
        "- 딕셔너리 값을 모두 초기화"
      ]
    },
    {
      "cell_type": "code",
      "metadata": {
        "colab": {
          "base_uri": "https://localhost:8080/"
        },
        "id": "YKs8nEvb9cK1",
        "outputId": "5f1a558a-3637-4ab8-de80-277fc9b5ed30"
      },
      "source": [
        "a = {'a' : 1, 'b' : 2, 'c' : 3}\n",
        "a['add'] = 3\n",
        "print(a)\n",
        "a.clear()\n",
        "print(a)"
      ],
      "execution_count": 25,
      "outputs": [
        {
          "output_type": "stream",
          "name": "stdout",
          "text": [
            "{'a': 1, 'b': 2, 'c': 3, 'add': 3}\n",
            "{}\n"
          ]
        }
      ]
    },
    {
      "cell_type": "markdown",
      "metadata": {
        "id": "qnxhrOso9rQN"
      },
      "source": [
        "**in**\n",
        "- key 값의 존재를 확인"
      ]
    },
    {
      "cell_type": "code",
      "metadata": {
        "colab": {
          "base_uri": "https://localhost:8080/"
        },
        "id": "HuaXS3bZ91aV",
        "outputId": "6745c7ee-ba7b-40d7-98b7-c00b6de99f7f"
      },
      "source": [
        "a = {'a' : 1, 'b' : 2, 'c' : 3}\n",
        "print(2 in a)\n",
        "print('a' in a)\n"
      ],
      "execution_count": 28,
      "outputs": [
        {
          "output_type": "stream",
          "name": "stdout",
          "text": [
            "False\n",
            "True\n"
          ]
        }
      ]
    },
    {
      "cell_type": "markdown",
      "metadata": {
        "id": "rTIjqqsV-V0e"
      },
      "source": [
        "- dict[key]로 접근,키가 존재하지 않을 경우 = 에러\n",
        "- .get()함수로 접근해서 키가 없는 경우에도 프로그램을 실행"
      ]
    },
    {
      "cell_type": "code",
      "metadata": {
        "colab": {
          "base_uri": "https://localhost:8080/"
        },
        "id": "51V1EVvg-gAI",
        "outputId": "c8950fcf-8f3a-4248-d054-ff5bdeefb16a"
      },
      "source": [
        "a = {'a' : 1, 'b' : 2, 'c' : 3}\n",
        "print(a['a'])\n",
        "print(a.get('d'))"
      ],
      "execution_count": 31,
      "outputs": [
        {
          "output_type": "stream",
          "name": "stdout",
          "text": [
            "1\n",
            "None\n"
          ]
        }
      ]
    },
    {
      "cell_type": "markdown",
      "metadata": {
        "id": "gIa-V1hY_DB-"
      },
      "source": [
        "**모든 key와 값에 접근**\n",
        "\n",
        "- keys() : 키만 반환\n",
        "- values() : 값만 반환\n",
        "- items() : 키와 값의 튜플을 반환"
      ]
    },
    {
      "cell_type": "code",
      "metadata": {
        "colab": {
          "base_uri": "https://localhost:8080/"
        },
        "id": "hItBCrt9_VQB",
        "outputId": "b943e023-6fcb-451e-9a5e-426f053b4727"
      },
      "source": [
        "a = {'a' : 1, 'b' : 2, 'c' : 3}\n",
        "print(a)\n",
        "print(a.keys())\n",
        "print(a.values())\n",
        "print(a.items())"
      ],
      "execution_count": 32,
      "outputs": [
        {
          "output_type": "stream",
          "name": "stdout",
          "text": [
            "{'a': 1, 'b': 2, 'c': 3}\n",
            "dict_keys(['a', 'b', 'c'])\n",
            "dict_values([1, 2, 3])\n",
            "dict_items([('a', 1), ('b', 2), ('c', 3)])\n"
          ]
        }
      ]
    },
    {
      "cell_type": "markdown",
      "metadata": {
        "id": "TGbVbF7JGGcH"
      },
      "source": [
        "### **set**\n",
        "- dictionary에서 key 데이터 구조\n",
        "- 중복이 허용되지 않는 구조"
      ]
    },
    {
      "cell_type": "code",
      "metadata": {
        "colab": {
          "base_uri": "https://localhost:8080/"
        },
        "id": "g4p9foNfGZ-F",
        "outputId": "68a0e9ae-4e2c-424d-9d6e-db8f39bf6a6a"
      },
      "source": [
        "a = {5,2,3,2,6,4,1,2}\n",
        "print(a)"
      ],
      "execution_count": 33,
      "outputs": [
        {
          "output_type": "stream",
          "name": "stdout",
          "text": [
            "{1, 2, 3, 4, 5, 6}\n"
          ]
        }
      ]
    },
    {
      "cell_type": "code",
      "metadata": {
        "colab": {
          "base_uri": "https://localhost:8080/"
        },
        "id": "lOWyQb5mGpjX",
        "outputId": "ea7ed955-82ba-4f79-f1fd-f0d79f114c33"
      },
      "source": [
        "#리스트를 set으로 변경\n",
        "a = [5,2,3,2,6,4,1,2]\n",
        "print(a)\n",
        "\n",
        "\n",
        "b = set(a)\n",
        "print(b)"
      ],
      "execution_count": 37,
      "outputs": [
        {
          "output_type": "stream",
          "name": "stdout",
          "text": [
            "[5, 2, 3, 2, 6, 4, 1, 2]\n",
            "{1, 2, 3, 4, 5, 6}\n"
          ]
        }
      ]
    },
    {
      "cell_type": "code",
      "metadata": {
        "colab": {
          "base_uri": "https://localhost:8080/"
        },
        "id": "pgQBRDaLHgZQ",
        "outputId": "0ede28d0-f574-4ffa-d32a-86598868af65"
      },
      "source": [
        "a = {1,2,3}\n",
        "b = {2,3,4}\n",
        "\n",
        "c = a.union(b) #합집합\n",
        "print(c)\n",
        "d = a.intersection(b) #교집합\n",
        "print(d)\n",
        "\n",
        "e = a.difference(b) #A-B 차집합\n",
        "print(e)"
      ],
      "execution_count": 42,
      "outputs": [
        {
          "output_type": "stream",
          "name": "stdout",
          "text": [
            "{1, 2, 3, 4}\n",
            "{2, 3}\n",
            "{1}\n"
          ]
        }
      ]
    }
  ]
}
