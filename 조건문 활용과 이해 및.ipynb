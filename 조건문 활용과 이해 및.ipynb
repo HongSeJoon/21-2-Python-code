{
  "nbformat": 4,
  "nbformat_minor": 0,
  "metadata": {
    "colab": {
      "name": "Untitled2.ipynb",
      "provenance": [],
      "collapsed_sections": [],
      "authorship_tag": "ABX9TyOABZhARiEHFrZVvbdnRhpZ",
      "include_colab_link": true
    },
    "kernelspec": {
      "name": "python3",
      "display_name": "Python 3"
    },
    "language_info": {
      "name": "python"
    }
  },
  "cells": [
    {
      "cell_type": "markdown",
      "metadata": {
        "id": "view-in-github",
        "colab_type": "text"
      },
      "source": [
        "<a href=\"https://colab.research.google.com/github/HongSeJoon/21-2-Python-code/blob/main/%EC%A1%B0%EA%B1%B4%EB%AC%B8%20%ED%99%9C%EC%9A%A9%EA%B3%BC%20%EC%9D%B4%ED%95%B4%20%EB%B0%8F.ipynb\" target=\"_parent\"><img src=\"https://colab.research.google.com/assets/colab-badge.svg\" alt=\"Open In Colab\"/></a>"
      ]
    },
    {
      "cell_type": "markdown",
      "metadata": {
        "id": "GiLUWutQdMU_"
      },
      "source": [
        "# **210830 프로그래밍**"
      ]
    },
    {
      "cell_type": "markdown",
      "metadata": {
        "id": "rAeKbGXLeQ5e"
      },
      "source": [
        "# **학습목표**\n",
        " - 조건문 활용과 이해 및"
      ]
    },
    {
      "cell_type": "markdown",
      "metadata": {
        "id": "f55nWt1Kemdx"
      },
      "source": [
        "### **조건문**\n",
        " - 특정 조건을 만족하는 경우에 수행할 작업이 있는 경우 사용\n",
        " - 참,거짓 으로 표현 된다\n",
        " - if,elif,else 키워드 사용\n",
        " - 조건문의 경우,들여쓰기로 하나의 블록을 만들고,여러 종속된 코드로 사용해서  중첩 코드가 가능\n",
        "\n",
        " - `블록(block)` : 들여쓰기 된 코드\n",
        " - 모든 블록의 시작과 마지막에는 :(콜론:colon)이 필요"
      ]
    },
    {
      "cell_type": "code",
      "metadata": {
        "colab": {
          "base_uri": "https://localhost:8080/"
        },
        "id": "MxSGUE4nh6k1",
        "outputId": "daf12a3a-6483-4e71-e312-59474545a4e8"
      },
      "source": [
        "if 10>20: #거짓\n",
        " print(\"참입니다\")\n",
        "print(\"거짓입니다\")"
      ],
      "execution_count": 5,
      "outputs": [
        {
          "output_type": "stream",
          "text": [
            "거짓입니다\n"
          ],
          "name": "stdout"
        }
      ]
    },
    {
      "cell_type": "markdown",
      "metadata": {
        "id": "SbVd07ruiyzJ"
      },
      "source": [
        "### **if,else**\n",
        "- if 가 아닌 경우 나머지 조건을 표현하고 싶을때\n",
        "- 이 경우, if 조건이 참(true)\n",
        "- 거짓(False)인 경우 else 블록의 코드가 수행\n",
        "- `주의!` if와 else 사이에는 다른 코드가 삽입 불가"
      ]
    },
    {
      "cell_type": "code",
      "metadata": {
        "colab": {
          "base_uri": "https://localhost:8080/"
        },
        "id": "RAytfvsqkiWs",
        "outputId": "6e363621-484d-4c6c-cc22-139acaef7b0c"
      },
      "source": [
        "#짝수인 경우 짝수!, 홀수인 경우 홀수!\n",
        "\n",
        "a = 5\n",
        "\n",
        "if a % 2 == 0 : #나머지가 0인경우 (참)\n",
        "  print('짝수!')\n",
        "else: \n",
        "  print('홀수!')"
      ],
      "execution_count": 6,
      "outputs": [
        {
          "output_type": "execute_result",
          "data": {
            "text/plain": [
              "1"
            ]
          },
          "metadata": {},
          "execution_count": 6
        }
      ]
    },
    {
      "cell_type": "markdown",
      "metadata": {
        "id": "fE_Ayb2vsm51"
      },
      "source": [
        "### **if, *elif*, else**\n",
        "- 조건이 여러개인 경우 elif으로 처리 가능\n",
        "- elif의 조건을 확인 후, ture인 조건의 코드 블록을 실행"
      ]
    },
    {
      "cell_type": "code",
      "metadata": {
        "colab": {
          "base_uri": "https://localhost:8080/"
        },
        "id": "rMkuwpmBtAc2",
        "outputId": "d15b2bcf-4d28-4d9a-94fc-7109c6c68fd4"
      },
      "source": [
        "score = 100 #점수\n",
        "\n",
        "if score == 100 :\n",
        "  print(\"치킨먹는 날\")\n",
        "elif score>=90 :\n",
        "  print(\"성적 : A\")\n",
        "elif score>=80 :\n",
        "  print(\"성적 : B\")\n",
        "elif score>=70 :\n",
        "  print(\"성적 : C\")\n",
        "elif score>=60 :\n",
        "  print(\"성적 : D\")\n",
        "else :\n",
        "  print(\"성적 : F\")\n",
        "print(\"수고하셨습니다\")"
      ],
      "execution_count": 16,
      "outputs": [
        {
          "output_type": "stream",
          "text": [
            "치킨먹는 날\n",
            "수고하셨습니다\n"
          ],
          "name": "stdout"
        }
      ]
    }
  ]
}