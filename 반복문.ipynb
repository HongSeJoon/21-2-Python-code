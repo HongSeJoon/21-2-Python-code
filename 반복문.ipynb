{
  "nbformat": 4,
  "nbformat_minor": 0,
  "metadata": {
    "colab": {
      "name": "반복문.ipynb",
      "provenance": [],
      "collapsed_sections": [],
      "authorship_tag": "ABX9TyN4cz+HYdjkEfx8WA23gBmV",
      "include_colab_link": true
    },
    "kernelspec": {
      "name": "python3",
      "display_name": "Python 3"
    },
    "language_info": {
      "name": "python"
    }
  },
  "cells": [
    {
      "cell_type": "markdown",
      "metadata": {
        "id": "view-in-github",
        "colab_type": "text"
      },
      "source": [
        "<a href=\"https://colab.research.google.com/github/HongSeJoon/21-2-Python-code/blob/main/%EB%B0%98%EB%B3%B5%EB%AC%B8.ipynb\" target=\"_parent\"><img src=\"https://colab.research.google.com/assets/colab-badge.svg\" alt=\"Open In Colab\"/></a>"
      ]
    },
    {
      "cell_type": "markdown",
      "metadata": {
        "id": "XjrLPHBB5CtP"
      },
      "source": [
        "# **학습목표**\n",
        " * 반복문의 이해 및 활용(for)\n",
        " * range 함수 이해"
      ]
    },
    {
      "cell_type": "markdown",
      "metadata": {
        "id": "Iu9qIwJP5Cln"
      },
      "source": [
        "# **For 반복문**\n",
        " * 리스트,문자열 등 순회 가능한 것들의 값을 처리할 때 사용\n",
        " * i는 매번 수행될 때마다 a 안의 값으로 순차적으로 변경이된다.\n",
        " * 모든 a 안의 값이 수행되면 for문 블록이 종료"
      ]
    },
    {
      "cell_type": "code",
      "metadata": {
        "id": "yFGZz1875IWX",
        "colab": {
          "base_uri": "https://localhost:8080/"
        },
        "outputId": "9e06f49f-d9bd-4a38-b2d2-6c0daa4628af"
      },
      "source": [
        "a = [1,2,3,4,5]\n",
        "\n",
        "for i in a:\n",
        "  print(i, i*2)\n",
        "print('\\ni 최종값 :', i)"
      ],
      "execution_count": null,
      "outputs": [
        {
          "output_type": "stream",
          "name": "stdout",
          "text": [
            "1 2\n",
            "2 4\n",
            "3 6\n",
            "4 8\n",
            "5 10\n",
            "\n",
            "i 최종값 : 5\n"
          ]
        }
      ]
    },
    {
      "cell_type": "code",
      "metadata": {
        "colab": {
          "base_uri": "https://localhost:8080/"
        },
        "id": "enDWB3tw_s6O",
        "outputId": "5416597e-c607-4993-e231-ffa1e5139f1c"
      },
      "source": [
        "#문자열의 아이템 출력하기\n",
        "\n",
        "for x in 'Hello Commnet B' : \n",
        "  print(x)"
      ],
      "execution_count": 1,
      "outputs": [
        {
          "output_type": "stream",
          "name": "stdout",
          "text": [
            "H\n",
            "e\n",
            "l\n",
            "l\n",
            "o\n",
            " \n",
            "C\n",
            "o\n",
            "m\n",
            "m\n",
            "n\n",
            "e\n",
            "t\n",
            " \n",
            "B\n"
          ]
        }
      ]
    },
    {
      "cell_type": "code",
      "metadata": {
        "colab": {
          "base_uri": "https://localhost:8080/"
        },
        "id": "x6uxZdkj1B2B",
        "outputId": "821916ae-f7b8-46a1-e234-6a577d027f28"
      },
      "source": [
        "#a 리스트 안의 수가 짝수면 그 수를 2로 나누고\n",
        "# 홀수일 경우 2를 곱한수를 출력하시오\n",
        " \n",
        "a = [1,10,6,29,18,7] #짝수와 홀수의 리스트\n",
        "\n",
        "for i in a :\n",
        "  if i % 2 == 0 :\n",
        "    print(i//2)\n",
        "  else :\n",
        "    print(i*2)"
      ],
      "execution_count": 7,
      "outputs": [
        {
          "output_type": "stream",
          "name": "stdout",
          "text": [
            "2\n",
            "5\n",
            "3\n",
            "58\n",
            "9\n",
            "14\n"
          ]
        }
      ]
    },
    {
      "cell_type": "markdown",
      "metadata": {
        "id": "7zOc2y6IBA8k"
      },
      "source": [
        "### **break**\n",
        "- for의 경우에 특정 조건을 만족할 때 그 블록을 빠져 나오기 위해서 사용\n"
      ]
    },
    {
      "cell_type": "code",
      "metadata": {
        "colab": {
          "base_uri": "https://localhost:8080/"
        },
        "id": "rBHchxsjBSM5",
        "outputId": "faa12ef3-8155-4e4b-e25b-e922f1c51f50"
      },
      "source": [
        "#a = [1,10,7,29,18]\n",
        "for i in a :\n",
        "  if i>20 :\n",
        "    break\n",
        "  print(i)"
      ],
      "execution_count": 14,
      "outputs": [
        {
          "output_type": "stream",
          "name": "stdout",
          "text": [
            "1\n",
            "10\n",
            "6\n"
          ]
        }
      ]
    },
    {
      "cell_type": "code",
      "metadata": {
        "colab": {
          "base_uri": "https://localhost:8080/"
        },
        "id": "zRZ26SiC4K9w",
        "outputId": "dab48ab7-7c00-4213-f2b9-263abeaa39a6"
      },
      "source": [
        "t = int(input())\n",
        "\n",
        "\n",
        "for i in range(t):\n",
        "  A,B = input().split()\n",
        "  A = int(A)\n",
        "  B = int(B)\n",
        "  print(A+B)"
      ],
      "execution_count": 29,
      "outputs": [
        {
          "output_type": "stream",
          "name": "stdout",
          "text": [
            "5\n",
            "1 1\n",
            "2\n",
            "2 3\n",
            "5\n",
            "3 4\n",
            "7\n",
            "8 9\n",
            "17\n",
            "2 5\n",
            "7\n"
          ]
        }
      ]
    },
    {
      "cell_type": "markdown",
      "metadata": {
        "id": "cIgiSHh-CCVv"
      },
      "source": [
        "## **continue**\n",
        "- 해당 아이템을 건너 뛰고 싶을 때 사용"
      ]
    },
    {
      "cell_type": "code",
      "metadata": {
        "colab": {
          "base_uri": "https://localhost:8080/"
        },
        "id": "AD1FlmhbCObz",
        "outputId": "55717536-70a6-48f9-f1b6-7fcc75681183"
      },
      "source": [
        "a = [3,9,7,29,18]\n",
        "\n",
        "for i in a :\n",
        "  if i>5 and  i<20 :\n",
        "    continue\n",
        "  print(i)"
      ],
      "execution_count": 33,
      "outputs": [
        {
          "output_type": "stream",
          "name": "stdout",
          "text": [
            "3\n",
            "29\n"
          ]
        }
      ]
    },
    {
      "cell_type": "markdown",
      "metadata": {
        "id": "jLeJkW31EcsH"
      },
      "source": [
        "### **range 함수**\n",
        "- 리시트 혹은 튜플을 쉽게 만들 수 있는 내장함수\n",
        "- 주어진 값에 따라 다양한  결과를 반환\n",
        "\n",
        "\n",
        "\n",
        "```python\n",
        "range(10)        ->[0,1,2,3,4,5,6,7,8,9]\n",
        "range(2,10)      ->[2,3,4,5,6,7,8,9]\n",
        "range(2,10,3)    ->[2,5,8]  \n",
        "```\n",
        "\n"
      ]
    },
    {
      "cell_type": "code",
      "metadata": {
        "colab": {
          "base_uri": "https://localhost:8080/"
        },
        "id": "Kvc3f_IFEqUy",
        "outputId": "7e3377de-f85c-4794-c478-6270aa89c9d2"
      },
      "source": [
        "print(list(range(10)))\n",
        "print(list(range(2,10)))\n",
        "print(list(range(2,10,3)))"
      ],
      "execution_count": 37,
      "outputs": [
        {
          "output_type": "stream",
          "name": "stdout",
          "text": [
            "[0, 1, 2, 3, 4, 5, 6, 7, 8, 9]\n",
            "[2, 3, 4, 5, 6, 7, 8, 9]\n",
            "[2, 5, 8]\n"
          ]
        }
      ]
    },
    {
      "cell_type": "markdown",
      "metadata": {
        "id": "zrbcoSWsFydm"
      },
      "source": [
        "### **구구단 출력하기**\n",
        "- 2단부터 9단 까찌\n",
        "- 각 단은 1부터 9까지 곱하도록\n",
        "\n",
        "> [2단]\n",
        "> - 2 * 1 = 2\n",
        "> - 2 * 2 = 4\n",
        "> - 2 * 3 = 6\n",
        ">...\n",
        "> - 2 * 9 = 18"
      ]
    },
    {
      "cell_type": "code",
      "metadata": {
        "colab": {
          "base_uri": "https://localhost:8080/"
        },
        "id": "OHE-575_GXvp",
        "outputId": "ba5ab346-ccca-488a-8b21-c02a0e0c9adf"
      },
      "source": [
        "print(\"구구단 출력하기\")\n",
        "for j in range(2,10):\n",
        "  print(\"[\",j,\"단\")\n",
        "  for i in range(1,10):\n",
        "   print(j, '*', i, '=', j*i)\n",
        "  print()"
      ],
      "execution_count": 69,
      "outputs": [
        {
          "output_type": "stream",
          "name": "stdout",
          "text": [
            "구구단 출력하기\n",
            "[ 2 단\n",
            "2 * 1 = 2\n",
            "2 * 2 = 4\n",
            "2 * 3 = 6\n",
            "2 * 4 = 8\n",
            "2 * 5 = 10\n",
            "2 * 6 = 12\n",
            "2 * 7 = 14\n",
            "2 * 8 = 16\n",
            "2 * 9 = 18\n",
            "\n",
            "[ 3 단\n",
            "3 * 1 = 3\n",
            "3 * 2 = 6\n",
            "3 * 3 = 9\n",
            "3 * 4 = 12\n",
            "3 * 5 = 15\n",
            "3 * 6 = 18\n",
            "3 * 7 = 21\n",
            "3 * 8 = 24\n",
            "3 * 9 = 27\n",
            "\n",
            "[ 4 단\n",
            "4 * 1 = 4\n",
            "4 * 2 = 8\n",
            "4 * 3 = 12\n",
            "4 * 4 = 16\n",
            "4 * 5 = 20\n",
            "4 * 6 = 24\n",
            "4 * 7 = 28\n",
            "4 * 8 = 32\n",
            "4 * 9 = 36\n",
            "\n",
            "[ 5 단\n",
            "5 * 1 = 5\n",
            "5 * 2 = 10\n",
            "5 * 3 = 15\n",
            "5 * 4 = 20\n",
            "5 * 5 = 25\n",
            "5 * 6 = 30\n",
            "5 * 7 = 35\n",
            "5 * 8 = 40\n",
            "5 * 9 = 45\n",
            "\n",
            "[ 6 단\n",
            "6 * 1 = 6\n",
            "6 * 2 = 12\n",
            "6 * 3 = 18\n",
            "6 * 4 = 24\n",
            "6 * 5 = 30\n",
            "6 * 6 = 36\n",
            "6 * 7 = 42\n",
            "6 * 8 = 48\n",
            "6 * 9 = 54\n",
            "\n",
            "[ 7 단\n",
            "7 * 1 = 7\n",
            "7 * 2 = 14\n",
            "7 * 3 = 21\n",
            "7 * 4 = 28\n",
            "7 * 5 = 35\n",
            "7 * 6 = 42\n",
            "7 * 7 = 49\n",
            "7 * 8 = 56\n",
            "7 * 9 = 63\n",
            "\n",
            "[ 8 단\n",
            "8 * 1 = 8\n",
            "8 * 2 = 16\n",
            "8 * 3 = 24\n",
            "8 * 4 = 32\n",
            "8 * 5 = 40\n",
            "8 * 6 = 48\n",
            "8 * 7 = 56\n",
            "8 * 8 = 64\n",
            "8 * 9 = 72\n",
            "\n",
            "[ 9 단\n",
            "9 * 1 = 9\n",
            "9 * 2 = 18\n",
            "9 * 3 = 27\n",
            "9 * 4 = 36\n",
            "9 * 5 = 45\n",
            "9 * 6 = 54\n",
            "9 * 7 = 63\n",
            "9 * 8 = 72\n",
            "9 * 9 = 81\n",
            "\n"
          ]
        }
      ]
    }
  ]
}