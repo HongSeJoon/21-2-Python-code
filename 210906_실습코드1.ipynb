{
  "nbformat": 4,
  "nbformat_minor": 0,
  "metadata": {
    "colab": {
      "name": "Untitled5.ipynb",
      "provenance": [],
      "collapsed_sections": [],
      "authorship_tag": "ABX9TyNz6roDm0glpqcukf/xihL/",
      "include_colab_link": true
    },
    "kernelspec": {
      "name": "python3",
      "display_name": "Python 3"
    },
    "language_info": {
      "name": "python"
    }
  },
  "cells": [
    {
      "cell_type": "markdown",
      "metadata": {
        "id": "view-in-github",
        "colab_type": "text"
      },
      "source": [
        "<a href=\"https://colab.research.google.com/github/HongSeJoon/21-2-Python-code/blob/main/210906_%EC%8B%A4%EC%8A%B5%EC%BD%94%EB%93%9C1.ipynb\" target=\"_parent\"><img src=\"https://colab.research.google.com/assets/colab-badge.svg\" alt=\"Open In Colab\"/></a>"
      ]
    },
    {
      "cell_type": "code",
      "metadata": {
        "colab": {
          "base_uri": "https://localhost:8080/"
        },
        "id": "dcwjR49QZ7iR",
        "outputId": "fa8b22eb-dd59-4b62-8462-409db4c3dd72"
      },
      "source": [
        "#1. Hello WOrld를 출력하시오.\n",
        "print(\"Hello World\")"
      ],
      "execution_count": null,
      "outputs": [
        {
          "output_type": "stream",
          "name": "stdout",
          "text": [
            "Hello World\n"
          ]
        }
      ]
    },
    {
      "cell_type": "code",
      "metadata": {
        "colab": {
          "base_uri": "https://localhost:8080/"
        },
        "id": "XxYroU51bgXi",
        "outputId": "4cf57c1f-18a3-422f-a9db-4ca6dd8f8999"
      },
      "source": [
        "#2. 두 정수 A와B를 입력받은 다음.\n",
        "# A+B 출력하는 프로금램을 작성하시오.\n",
        "A,B = input().split()\n",
        "A = int(A)\n",
        "B = int(B)\n",
        "print(A+B)"
      ],
      "execution_count": null,
      "outputs": [
        {
          "output_type": "stream",
          "name": "stdout",
          "text": [
            "1 2\n",
            "3\n"
          ]
        }
      ]
    },
    {
      "cell_type": "code",
      "metadata": {
        "colab": {
          "base_uri": "https://localhost:8080/"
        },
        "id": "ZxMJ_NpWdjIC",
        "outputId": "cbf0828f-aef1-4d2e-d186-81a2fb38dea3"
      },
      "source": [
        "A,B = input().split()\n",
        "A = int(A)\n",
        "B = int(B)\n",
        "print(A+B)\n",
        "print(A-B)\n",
        "print(A*B)\n",
        "print(A//B)\n",
        "print(A%B)"
      ],
      "execution_count": null,
      "outputs": [
        {
          "output_type": "stream",
          "name": "stdout",
          "text": [
            "1 2\n",
            "3\n",
            "-1\n",
            "2\n",
            "0\n",
            "1\n"
          ]
        }
      ]
    },
    {
      "cell_type": "code",
      "metadata": {
        "colab": {
          "base_uri": "https://localhost:8080/"
        },
        "id": "vd5pk435kCOd",
        "outputId": "6def875a-afff-488e-f93e-3f1d2631209b"
      },
      "source": [
        "# (BOJ.9894)\n",
        "#시험 점수를 입력받아 90 ~ 100점은 A, 80 ~ 89점은 B, 70 ~ 79점은 C, 60 ~ 69점은 D, 나머지 점수는 F를 출력하는 프로그램을 작성하시오.\n",
        "score = int(input())\n",
        "\n",
        "if score>=90 :\n",
        " print(\"A\")\n",
        "elif score>=80 :\n",
        " print(\"B\")\n",
        "elif score>=70 :\n",
        " print(\"C\")\n",
        "elif score>=60 :\n",
        " print(\"D\") \n",
        "else:\n",
        "  print(\"F\")"
      ],
      "execution_count": null,
      "outputs": [
        {
          "output_type": "stream",
          "name": "stdout",
          "text": [
            "100\n",
            "A\n"
          ]
        }
      ]
    },
    {
      "cell_type": "code",
      "metadata": {
        "colab": {
          "base_uri": "https://localhost:8080/"
        },
        "id": "0APVfostpnHV",
        "outputId": "3c27ccdf-da18-4d1e-fe5e-189e46fe4dc3"
      },
      "source": [
        "#5. (BOJ. 1330)\n",
        "#두 정수 A와 B가 주어졌을 때, A와 B를 비교하는 프로그램을 작성하시오.\n",
        "#첫째 줄에 A와 B가 주어진다. A와 B는 공백 한 칸으로 구분되어져 있다.\n",
        "\n",
        "A,B = input().split()\n",
        "\n",
        "A = int(A)\n",
        "B = int(B)\n",
        "\n",
        "\n",
        "if A>B :\n",
        " print(\">\")\n",
        "elif A<B :\n",
        " print(\"<\")\n",
        "else :\n",
        " print(\"==\")\n"
      ],
      "execution_count": null,
      "outputs": [
        {
          "output_type": "stream",
          "name": "stdout",
          "text": [
            "2 1\n",
            ">\n"
          ]
        }
      ]
    },
    {
      "cell_type": "code",
      "metadata": {
        "id": "Z-GGEat61e4i"
      },
      "source": [
        ""
      ],
      "execution_count": null,
      "outputs": []
    },
    {
      "cell_type": "markdown",
      "metadata": {
        "id": "ab_YrF2CWVlI"
      },
      "source": [
        ""
      ]
    }
  ]
}