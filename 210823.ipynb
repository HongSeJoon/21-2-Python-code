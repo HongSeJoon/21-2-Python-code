{
  "nbformat": 4,
  "nbformat_minor": 0,
  "metadata": {
    "colab": {
      "name": "Untitled0.ipynb",
      "provenance": [],
      "collapsed_sections": [],
      "authorship_tag": "ABX9TyNzDo93bwR0oj00O3Ob5Q5J",
      "include_colab_link": true
    },
    "kernelspec": {
      "name": "python3",
      "display_name": "Python 3"
    },
    "language_info": {
      "name": "python"
    }
  },
  "cells": [
    {
      "cell_type": "markdown",
      "metadata": {
        "id": "view-in-github",
        "colab_type": "text"
      },
      "source": [
        "<a href=\"https://colab.research.google.com/github/HongSeJoon/21-2-Python-code/blob/main/210823.ipynb\" target=\"_parent\"><img src=\"https://colab.research.google.com/assets/colab-badge.svg\" alt=\"Open In Colab\"/></a>"
      ]
    },
    {
      "cell_type": "markdown",
      "metadata": {
        "id": "aXXVOI4Pbt9o"
      },
      "source": [
        "# **학습목표**\n",
        "1. python 언어에서 변수의 의미를 이해하기\n",
        "2. 기본 데이터 타입을 선언하기(int,float,str,bool)"
      ]
    },
    {
      "cell_type": "markdown",
      "metadata": {
        "id": "NPmem9o1cyc2"
      },
      "source": [
        "##### **= 대입 연산자**\n",
        "\n",
        "\n",
        "*   대입의 경우,오른쪽의 수식이나 값을 계산한 뒤.\n",
        "왼쪽 변수에 값을 가지게 된다.\n",
        "* 변수는 해당 값을 가지게 된다.  "
      ]
    },
    {
      "cell_type": "code",
      "metadata": {
        "id": "fIfrzlT-dV4U"
      },
      "source": [
        "a = 10 #int\n",
        "b = 11.4 #float"
      ],
      "execution_count": 4,
      "outputs": []
    },
    {
      "cell_type": "code",
      "metadata": {
        "colab": {
          "base_uri": "https://localhost:8080/"
        },
        "id": "ZR3T6UKTdgML",
        "outputId": "999effef-8d1b-47bf-e97b-78605fa56db3"
      },
      "source": [
        "print(a)"
      ],
      "execution_count": 5,
      "outputs": [
        {
          "output_type": "stream",
          "text": [
            "10\n"
          ],
          "name": "stdout"
        }
      ]
    },
    {
      "cell_type": "markdown",
      "metadata": {
        "id": "451_ShiBe6SO"
      },
      "source": [
        "## **주석(comment)**\n",
        "\n",
        "\n",
        "*  코드에서 #으로 시작하는 뒷부분은 실행 안함\n",
        "*   python이 실행할 때 #만나면 무시\n",
        "*   개발자(사람)이 보기 위한 용도로 사용"
      ]
    },
    {
      "cell_type": "code",
      "metadata": {
        "id": "Ro0WqXtcfYLM"
      },
      "source": [
        "#This lien is important\n",
        "#so don't delete those lines\n",
        "\n",
        "math = 11\n",
        "english = 57.8"
      ],
      "execution_count": 6,
      "outputs": []
    },
    {
      "cell_type": "markdown",
      "metadata": {
        "id": "c7_Eot5wgHFW"
      },
      "source": [
        "# **print 함수**\n",
        "* 함수란 특정 기능을 반복적으로\n",
        " 호출하여 사용 가능한 코드 블럭 \n",
        "* 해당 변수 값이 출력\n",
        "* ,로 여러 변수를 나열하면 한줄에 출력\n",
        "* 기본적으로는 한칸 띄어쓰기 후 출력"
      ]
    },
    {
      "cell_type": "code",
      "metadata": {
        "colab": {
          "base_uri": "https://localhost:8080/"
        },
        "id": "mtmWzpJ0gTYm",
        "outputId": "86aa18b8-67e4-4e84-dff5-3baf164feca2"
      },
      "source": [
        "print(a,b)"
      ],
      "execution_count": 7,
      "outputs": [
        {
          "output_type": "stream",
          "text": [
            "10 11.4\n"
          ],
          "name": "stdout"
        }
      ]
    },
    {
      "cell_type": "code",
      "metadata": {
        "colab": {
          "base_uri": "https://localhost:8080/"
        },
        "id": "b-rZmyoygvM3",
        "outputId": "8d7c590d-d47e-4cc5-8da1-60aa09e04dcc"
      },
      "source": [
        "print(math,english,20,'박개준')"
      ],
      "execution_count": 10,
      "outputs": [
        {
          "output_type": "stream",
          "text": [
            "11 57.8 20 박개준\n"
          ],
          "name": "stdout"
        }
      ]
    },
    {
      "cell_type": "markdown",
      "metadata": {
        "id": "OKRPFAvPhtG2"
      },
      "source": [
        "# **변수 값 확인 방법**\n",
        "1. print() 함수 사용\n",
        "2. 변수 값을 코드의 마지막에 위치 시킨 후 실행\n",
        " - 이 경우 output으로 변수의 값이 출력된다."
      ]
    },
    {
      "cell_type": "code",
      "metadata": {
        "colab": {
          "base_uri": "https://localhost:8080/"
        },
        "id": "xow7UNwuhkxH",
        "outputId": "011eb392-ae36-4bda-cdde-c8b2126f08ad"
      },
      "source": [
        "math\n",
        "english"
      ],
      "execution_count": 12,
      "outputs": [
        {
          "output_type": "execute_result",
          "data": {
            "text/plain": [
              "57.8"
            ]
          },
          "metadata": {},
          "execution_count": 12
        }
      ]
    },
    {
      "cell_type": "markdown",
      "metadata": {
        "id": "92nFaQbSjODd"
      },
      "source": [
        "### **변수 이름 규칙** \n",
        "* 영문 대소문자, -, 숫자로 구성 가능\n",
        " - 숫자로 시작은 안된다!\n",
        "* 일반적으로 변수를 표현할 때 정확하고 간결한 이름을 사용하여 쉽게 이해하도록 설정한다.\n",
        " - 예) a = 900 경우보다, hy_student_num 이해가 빠르다."
      ]
    },
    {
      "cell_type": "code",
      "metadata": {
        "id": "-6UQjTWBkK-m"
      },
      "source": [
        "abAB = 100\n",
        "#4_num = 10 숫자로 시작하여 실행안됨\n",
        "ABab = 200\n",
        "_right = 800"
      ],
      "execution_count": 17,
      "outputs": []
    },
    {
      "cell_type": "markdown",
      "metadata": {
        "id": "F5Ga30U9lNn3"
      },
      "source": [
        "### **예악어(키워드)**\n",
        "* python에서 미리 선점하여 사용중인 키워드\n",
        "* 변수, 함수, 클래스 등 사용자 정의 이름으로 사용할수 없음"
      ]
    },
    {
      "cell_type": "code",
      "metadata": {
        "colab": {
          "base_uri": "https://localhost:8080/"
        },
        "id": "7jJ9gDD-lmGF",
        "outputId": "445bcab2-7d19-4758-e3ce-2ef5944b6cbb"
      },
      "source": [
        "#for = 10 for은 예악어로 변수 사용 불가\n",
        "_for = 100\n",
        "_for"
      ],
      "execution_count": 18,
      "outputs": [
        {
          "output_type": "execute_result",
          "data": {
            "text/plain": [
              "100"
            ]
          },
          "metadata": {},
          "execution_count": 18
        }
      ]
    },
    {
      "cell_type": "code",
      "metadata": {
        "id": "uwB8dCy9l3DF"
      },
      "source": [
        ""
      ],
      "execution_count": null,
      "outputs": []
    }
  ]
}