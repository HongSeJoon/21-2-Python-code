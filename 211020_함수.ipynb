{
  "nbformat": 4,
  "nbformat_minor": 0,
  "metadata": {
    "colab": {
      "name": "211020_함수.ipynb",
      "provenance": [],
      "collapsed_sections": [],
      "authorship_tag": "ABX9TyN6U6q8UJVnFqzQ7lmiv/Pi",
      "include_colab_link": true
    },
    "kernelspec": {
      "name": "python3",
      "display_name": "Python 3"
    },
    "language_info": {
      "name": "python"
    }
  },
  "cells": [
    {
      "cell_type": "markdown",
      "metadata": {
        "id": "view-in-github",
        "colab_type": "text"
      },
      "source": [
        "<a href=\"https://colab.research.google.com/github/HongSeJoon/21-2-Python-code/blob/main/211020_%ED%95%A8%EC%88%98.ipynb\" target=\"_parent\"><img src=\"https://colab.research.google.com/assets/colab-badge.svg\" alt=\"Open In Colab\"/></a>"
      ]
    },
    {
      "cell_type": "markdown",
      "metadata": {
        "id": "wpWmxy_j8tGw"
      },
      "source": [
        "### **학습목표**\n",
        "1. 함수의 이해\n",
        "2. 함수 구현 및 사용 숙지\n",
        "- 표준함수(내장함수)\n",
        "- 사용자 정의 함수"
      ]
    },
    {
      "cell_type": "markdown",
      "metadata": {
        "id": "1kgW66kA9GlR"
      },
      "source": [
        "### **함수?**\n",
        "- 예를들어, range 같은 함수가 있다\n",
        "- range() #괄호안에 입력값을 주어서 수를 반호ㅓ\n",
        "- range(3,9) -> [3,4,5,6,7,8]\n",
        "\n",
        "- 이미 구현된 함수: 내장함수(built-in function)"
      ]
    },
    {
      "cell_type": "markdown",
      "metadata": {
        "id": "vLpxzmkeLIFY"
      },
      "source": [
        "### **수학 관련 내장함수**\n",
        "1. abs()\n",
        "2. 진수변환\n",
        "- bin(): 10진수를 2진수로\n",
        "- oct(): 10진수를 8진수로\n",
        "- hex(): 10진수를 16진수로\n",
        "3. 연산\n",
        "- max(): 최대값\n",
        "- min(): 최소값\n",
        "- sum(): 합계\n",
        "- pow(): 거듭제곱\n",
        "4. round():반올림"
      ]
    },
    {
      "cell_type": "code",
      "metadata": {
        "colab": {
          "base_uri": "https://localhost:8080/"
        },
        "id": "MsCRvND78peM",
        "outputId": "73e69e3a-329f-4432-fdb4-04eb51f5b63e"
      },
      "source": [
        "print(-10,\"의 절대값:\",abs(-10))\n",
        "print(128,\"의 2진수:\", bin(128))\n",
        "print(17,\"의 8진수:\", oct(17))\n",
        "print(1115,\"의 16진수:\",hex(1115))"
      ],
      "execution_count": null,
      "outputs": [
        {
          "output_type": "stream",
          "name": "stdout",
          "text": [
            "-10 의 절대값: 10\n",
            "128 의 2진수: 0b10000000\n",
            "17 의 8진수: 0o21\n",
            "1115 의 16진수: 0x45b\n"
          ]
        }
      ]
    },
    {
      "cell_type": "code",
      "metadata": {
        "colab": {
          "base_uri": "https://localhost:8080/"
        },
        "id": "2-qoLUFjNY6H",
        "outputId": "64c6a391-1b79-45ca-b8ce-4a949f39b25c"
      },
      "source": [
        "numbers = [3,5,6,2,3]\n",
        "alpha = ['a','A','c','o','P']\n",
        "print(\"max:\", max(numbers))\n",
        "print(\"min:\",min(numbers))\n",
        "print(max(alpha))\n",
        "print(min(alpha))\n",
        "print(\"sum:\",sum(numbers))\n",
        "print(\"pow(3의 4승):\",pow(3,4))\n",
        "print(\"3.141592의 소수 점 2의 자리 반올림:\", round(3.141592,2))         "
      ],
      "execution_count": null,
      "outputs": [
        {
          "output_type": "stream",
          "name": "stdout",
          "text": [
            "max: 6\n",
            "min: 2\n",
            "o\n",
            "A\n",
            "sum: 19\n",
            "pow(3의 4승): 81\n",
            "3.141592의 소수 점 2의 자리 반올림: 3.14\n"
          ]
        }
      ]
    },
    {
      "cell_type": "markdown",
      "metadata": {
        "id": "NbSubNziWRd6"
      },
      "source": [
        "### **문자열 관련 내장함수**\n",
        "- input(): ()안에 매개변수 값을 출력한 후에 받는 변수다\n",
        "- format(): 일부 내용을 치환하여 의도한 형식의 문자열을 출력하는 함수"
      ]
    },
    {
      "cell_type": "code",
      "metadata": {
        "colab": {
          "base_uri": "https://localhost:8080/"
        },
        "id": "mWdP6uM7Wl7p",
        "outputId": "b1ca1e81-0762-42ea-d756-5e9087da4854"
      },
      "source": [
        "id = input(\"아이디를 입력하세요: \")\n",
        "password = input(\"비밀번호를 입력하세요:\")\n",
        "print(\"{}님! 가입을 환영합니다\".format(id))"
      ],
      "execution_count": 3,
      "outputs": [
        {
          "output_type": "stream",
          "name": "stdout",
          "text": [
            "아이디를 입력하세요: 성동구린가드\n",
            "비밀번호를 입력하세요:sejoon1234\n",
            "성동구린가드님! 가입을 환영합니다\n"
          ]
        }
      ]
    },
    {
      "cell_type": "code",
      "metadata": {
        "colab": {
          "base_uri": "https://localhost:8080/"
        },
        "id": "fG9wF4Jtu28u",
        "outputId": "58011d0f-9145-474c-e45f-d808668e7745"
      },
      "source": [
        "#주사위 굴리는 프로그램 만들기\n",
        "\n",
        "#import random\n",
        "#n = random.randint(1,6)\n",
        "#\\print(n)\n",
        "\n",
        "def game():\n",
        "  n = random.randint(0,2)\n",
        "  if n == 0:\n",
        "    print(\">컴퓨터 : 가위\")\n",
        "  elif n == 1:\n",
        "    print(\">컴퓨터 : 바위\")\n",
        "  else:\n",
        "    print(\">컴퓨터 : 보\") \n",
        "  return n\n",
        "#가위바위보 게임\n",
        "\n",
        "com = random.randint(0,2)\n",
        "user = int(input(\"(0.가위, 1.바위, 2.보)중 하나를 입력하세요: \"))\n",
        "com1 = game()\n",
        "#com2 = game()\n",
        "#com3 = game()\n",
        "\n",
        "if com == 0:\n",
        "  print(\">컴퓨터 : 가위\")\n",
        "elif com == 1:\n",
        "  print(\">컴퓨터 : 바위\")\n",
        "else:\n",
        "  print(\">컴퓨터 : 보\")\n",
        "if com == user:\n",
        "  print(\"DRAW!\")\n",
        "elif com == 0 and user == 1:\n",
        "  print(\"Win\")\n",
        "elif com == 1 and user == 2:\n",
        "  print(\"Win\")\n",
        "elif com == 2 and user == 0:\n",
        "  print(\"Win\")\n",
        "else:\n",
        "  print(\"Lose!\")"
      ],
      "execution_count": 72,
      "outputs": [
        {
          "output_type": "stream",
          "name": "stdout",
          "text": [
            "(0.가위, 1.바위, 2.보)중 하나를 입력하세요: 2\n",
            ">컴퓨터 : 가위\n",
            ">컴퓨터 : 가위\n",
            "Lose!\n"
          ]
        }
      ]
    }
  ]
}