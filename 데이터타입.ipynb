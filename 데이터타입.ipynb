{
  "nbformat": 4,
  "nbformat_minor": 0,
  "metadata": {
    "colab": {
      "name": "데이터타입.ipynb",
      "provenance": [],
      "collapsed_sections": [],
      "authorship_tag": "ABX9TyPcAbjKkkDSXb9YEi25fO7X",
      "include_colab_link": true
    },
    "kernelspec": {
      "name": "python3",
      "display_name": "Python 3"
    },
    "language_info": {
      "name": "python"
    }
  },
  "cells": [
    {
      "cell_type": "markdown",
      "metadata": {
        "id": "view-in-github",
        "colab_type": "text"
      },
      "source": [
        "<a href=\"https://colab.research.google.com/github/HongSeJoon/21-2-Python-code/blob/main/%EB%8D%B0%EC%9D%B4%ED%84%B0%ED%83%80%EC%9E%85.ipynb\" target=\"_parent\"><img src=\"https://colab.research.google.com/assets/colab-badge.svg\" alt=\"Open In Colab\"/></a>"
      ]
    },
    {
      "cell_type": "markdown",
      "metadata": {
        "id": "W9GywJwWX5wR"
      },
      "source": [
        "## **학습목표**\n",
        "- list 에 대해 이해하기\n",
        "- tuple 에 대해 이해하기"
      ]
    },
    {
      "cell_type": "markdown",
      "metadata": {
        "id": "k3nGG-eVbLSh"
      },
      "source": [
        "### **리스트와 튜플**\n",
        "- 여러 개의 값을 담을 수 있는 데이터 구조\n",
        "- list: 생성된 후에 변경이 가능\n",
        "- tuple: 생겅된 후에 변경이 불가능"
      ]
    },
    {
      "cell_type": "code",
      "metadata": {
        "colab": {
          "base_uri": "https://localhost:8080/"
        },
        "id": "-BeIfYNhZeIL",
        "outputId": "7f8d22cd-1d8f-411a-9d3c-86e78058e704"
      },
      "source": [
        "#[]list  {}:딕셔너리 ():튜플\n",
        "a = [1,2,3,4,5]\n",
        "print(a)"
      ],
      "execution_count": 2,
      "outputs": [
        {
          "output_type": "stream",
          "name": "stdout",
          "text": [
            "[1, 2, 3, 4, 5]\n"
          ]
        }
      ]
    },
    {
      "cell_type": "code",
      "metadata": {
        "colab": {
          "base_uri": "https://localhost:8080/"
        },
        "id": "uVs8t6lydAOS",
        "outputId": "25eac60c-fda5-4e6b-df18-e4672693a380"
      },
      "source": [
        "a = ['컴네','b','1','학년',[10.,20]]\n",
        "print(a)"
      ],
      "execution_count": 3,
      "outputs": [
        {
          "output_type": "stream",
          "name": "stdout",
          "text": [
            "['컴네', 'b', '1', '학년', [10.0, 20]]\n"
          ]
        }
      ]
    },
    {
      "cell_type": "code",
      "metadata": {
        "colab": {
          "base_uri": "https://localhost:8080/"
        },
        "id": "MUUx9UhNdjDb",
        "outputId": "efaeb933-087a-4bee-cd06-a176f34526d2"
      },
      "source": [
        "'''\n",
        "a = \"Hello Comnet B !\"\n",
        "b = list(a)#list()함수로 리스트를 생성\n",
        "#리스트 함수는 다른타입(문자열 등)을 리스트로 변환할 때 사용\n",
        "\n",
        "print(b)\n",
        "print(len(b))\n",
        "c = a.split()#공백을 기준으로 리스트를 생성\n",
        "print(c)\n",
        "d = a.split('l')\n",
        "print(d)"
      ],
      "execution_count": 10,
      "outputs": [
        {
          "output_type": "stream",
          "name": "stdout",
          "text": [
            "['H', 'e', 'l', 'l', 'o', ' ', 'C', 'o', 'm', 'n', 'e', 't', ' ', 'B', ' ', '!']\n",
            "16\n",
            "['Hello', 'Comnet', 'B', '!']\n",
            "['He', '', 'o Comnet B !']\n"
          ]
        }
      ]
    },
    {
      "cell_type": "markdown",
      "metadata": {
        "id": "1Zavtbajk8p0"
      },
      "source": [
        "### **리스트 인데싱(indexing)**\n",
        "- [] 연산자를 이용해서 항목을 가져온다\n",
        "- [ i ]: i번쨰 원소를 반환 한다.\n",
        "- 만약, i가 음수면 마지막 원소에서 -1로 하여 가져온다."
      ]
    },
    {
      "cell_type": "code",
      "metadata": {
        "colab": {
          "base_uri": "https://localhost:8080/"
        },
        "id": "1wd5IHbilU7k",
        "outputId": "387cb344-7a9a-4996-9c59-3f0f79960653"
      },
      "source": [
        "a = [1,2,3,4,5,6,7,8,9,10]\n",
        "print(a[0],a[3],a[7],a[9],a[-1])\n",
        "print(a[-1], a[-3], a[-10])\n",
        "#print(a[10],a[-11])"
      ],
      "execution_count": 19,
      "outputs": [
        {
          "output_type": "stream",
          "name": "stdout",
          "text": [
            "1 4 8 10 10\n",
            "10 8 1\n"
          ]
        }
      ]
    },
    {
      "cell_type": "code",
      "metadata": {
        "colab": {
          "base_uri": "https://localhost:8080/"
        },
        "id": "0imNNtnBmyhN",
        "outputId": "84e0e889-7d56-48e5-9fc3-0c1a290fdcbf"
      },
      "source": [
        "'''\n",
        "a = [1,2,3,4,5,6,7,8,9,10]\n",
        "a[0] = 100\n",
        "a[-1] = 0\n",
        "print(a)\n",
        "a = \"hello comnet B!\"\n",
        "b = a.replace('l','w')\n",
        "print(b)\n",
        "c = 'j'+a[1:]\n",
        "print(c)\n",
        "'''"
      ],
      "execution_count": 25,
      "outputs": [
        {
          "output_type": "stream",
          "name": "stdout",
          "text": [
            "[100, 2, 3, 4, 5, 6, 7, 8, 9, 0]\n",
            "hewwo comnet B!\n",
            "jello comnet B!\n"
          ]
        }
      ]
    },
    {
      "cell_type": "markdown",
      "metadata": {
        "id": "mF3p0VWjoOot"
      },
      "source": [
        "### **리스트 slicing**\n",
        "- 리시트를 슬라이싱한 결과도 역시 리스트\n",
        "- 슬라이싱[시작:증가값]"
      ]
    },
    {
      "cell_type": "code",
      "metadata": {
        "colab": {
          "base_uri": "https://localhost:8080/"
        },
        "id": "jossQ0lxooLu",
        "outputId": "6a5faff9-dcfc-47cc-bdb2-657a32ab6447"
      },
      "source": [
        "a = [1,2,3,4,5,6,7,8,9,10]\n",
        "print(a[3:7])\n",
        "print(a[:7])\n",
        "print(a[3:])\n",
        "print(a[::2])\n",
        "print(a[1:9:2])"
      ],
      "execution_count": 31,
      "outputs": [
        {
          "output_type": "stream",
          "name": "stdout",
          "text": [
            "[4, 5, 6, 7]\n",
            "[1, 2, 3, 4, 5, 6, 7]\n",
            "[4, 5, 6, 7, 8, 9, 10]\n",
            "[1, 3, 5, 7, 9]\n",
            "[2, 4, 6, 8]\n"
          ]
        }
      ]
    },
    {
      "cell_type": "markdown",
      "metadata": {
        "id": "Pgme0GoVq6P-"
      },
      "source": [
        "### **리스트 멤버 함수**\n",
        "- 생선된 리스트에 동작하는 함수\n",
        "- append() : 리스트 끝에다가 항목을 추가\n",
        "- extend() : 리스트를 연장 (+=)\n",
        "- insert() : 원하는 위치에 추가 가능(위치,아이템)"
      ]
    },
    {
      "cell_type": "code",
      "metadata": {
        "colab": {
          "base_uri": "https://localhost:8080/"
        },
        "id": "Bqb_sC4KpwP-",
        "outputId": "9a477d8d-6612-4a06-c0a3-6bb8b9665e91"
      },
      "source": [
        "a = [1,2,3,4,5]\n",
        "a.append(10)\n",
        "print(a)"
      ],
      "execution_count": 34,
      "outputs": [
        {
          "output_type": "stream",
          "name": "stdout",
          "text": [
            "[1, 2, 3, 4, 5, 10]\n"
          ]
        }
      ]
    },
    {
      "cell_type": "code",
      "metadata": {
        "colab": {
          "base_uri": "https://localhost:8080/"
        },
        "id": "8rr6g9fmr8Du",
        "outputId": "b507a853-2989-4be4-8865-c18001416d96"
      },
      "source": [
        "b = [11,12,3]\n",
        "#a.extend(b)\n",
        "a += b\n",
        "print(a)"
      ],
      "execution_count": 42,
      "outputs": [
        {
          "output_type": "stream",
          "name": "stdout",
          "text": [
            "[7, 1, 2, 3, 4, 5, 11, 12, 3]\n"
          ]
        }
      ]
    },
    {
      "cell_type": "code",
      "metadata": {
        "colab": {
          "base_uri": "https://localhost:8080/"
        },
        "id": "X0jpWzaLsh6W",
        "outputId": "13cfdb27-9350-454b-9d07-4ad48730e98b"
      },
      "source": [
        "a = [1,2,3,4,5]\n",
        "a.insert(0,7)\n",
        "a.insert(1,6)\n",
        "print(a)"
      ],
      "execution_count": 41,
      "outputs": [
        {
          "output_type": "stream",
          "name": "stdout",
          "text": [
            "[7, 1, 2, 3, 4, 5]\n"
          ]
        }
      ]
    },
    {
      "cell_type": "markdown",
      "metadata": {
        "id": "13aV6tcLyl0w"
      },
      "source": [
        "- remove() : 값으로 항목을 삭제\n",
        "- pop() : 지우고자 하는 인덱스의 아이템을 변환 후 삭제\n",
        "- index() : 찾고자하는 값의 인덱스 값을 반환"
      ]
    },
    {
      "cell_type": "code",
      "metadata": {
        "id": "VdpkQnHWyqWY"
      },
      "source": [
        "a = [10,20,30,40,50]\n",
        "a.remove(10)\n",
        "print(a)"
      ],
      "execution_count": null,
      "outputs": []
    },
    {
      "cell_type": "code",
      "metadata": {
        "colab": {
          "base_uri": "https://localhost:8080/"
        },
        "id": "T2yRKvmgzPYo",
        "outputId": "df682fa2-ffb3-48ae-afc1-8db60cbc004c"
      },
      "source": [
        "a = [10,20,30,40,50]\n",
        "b = a.pop(0)\n",
        "print(b)\n",
        "print(a)"
      ],
      "execution_count": 45,
      "outputs": [
        {
          "output_type": "stream",
          "name": "stdout",
          "text": [
            "10\n",
            "[20, 30, 40, 50]\n"
          ]
        }
      ]
    },
    {
      "cell_type": "code",
      "metadata": {
        "colab": {
          "base_uri": "https://localhost:8080/"
        },
        "id": "8iIvbkIhz2iY",
        "outputId": "85c01818-2440-441b-9ea8-25de36915d14"
      },
      "source": [
        "a = [10,20,30,40,50]\n",
        "print(a.index(40))\n",
        "\n",
        "b = \"Hello!\"\n",
        "print(b.index('e'))"
      ],
      "execution_count": 47,
      "outputs": [
        {
          "output_type": "stream",
          "name": "stdout",
          "text": [
            "3\n",
            "1\n"
          ]
        }
      ]
    },
    {
      "cell_type": "markdown",
      "metadata": {
        "id": "b1tPIFXI0eWc"
      },
      "source": [
        "### **in 키워드**\n",
        "- 리스트에 해당 값이 존재하는지\n",
        "- True,False 중 한가지로 변환\n",
        "- 값 in [list]"
      ]
    },
    {
      "cell_type": "code",
      "metadata": {
        "colab": {
          "base_uri": "https://localhost:8080/"
        },
        "id": "U-BaBanR0udx",
        "outputId": "f3160cf2-d3b4-4f84-971b-130538cb5791"
      },
      "source": [
        "a = [1,2,3,4,5,6,7,8]\n",
        "b = 5\n",
        "c = 10\n",
        "print(b in a)\n",
        "print(c in a)"
      ],
      "execution_count": 48,
      "outputs": [
        {
          "output_type": "stream",
          "name": "stdout",
          "text": [
            "True\n",
            "False\n"
          ]
        }
      ]
    },
    {
      "cell_type": "markdown",
      "metadata": {
        "id": "mzqzXhfh18m5"
      },
      "source": [
        "### **list 정렬**\n",
        "-sort() : 리스트 자체를 내부적으로 정렬\n",
        "-sorted() : 정렬된 리스트의 복사본을 저장"
      ]
    },
    {
      "cell_type": "code",
      "metadata": {
        "colab": {
          "base_uri": "https://localhost:8080/"
        },
        "id": "ufRW9WDX2DTR",
        "outputId": "212dd6c6-05ce-4ab1-c9f4-db7b7a86de43"
      },
      "source": [
        "a = [9,34,45,242,12,1,2,8,5,2,1,3,4]\n",
        "b = sorted(a)\n",
        "print(b)\n",
        "print(a)\n",
        "\n",
        "#a.sort()\n",
        "#print(a)\n",
        "#a.sort(reverse=True)\n",
        "#print(a)"
      ],
      "execution_count": 54,
      "outputs": [
        {
          "output_type": "stream",
          "name": "stdout",
          "text": [
            "[1, 1, 2, 2, 3, 4, 5, 8, 9, 12, 34, 45, 242]\n",
            "[9, 34, 45, 242, 12, 1, 2, 8, 5, 2, 1, 3, 4]\n"
          ]
        }
      ]
    },
    {
      "cell_type": "markdown",
      "metadata": {
        "id": "i3jP5H6O3Im1"
      },
      "source": [
        "### **튜플(Tupple)**\n",
        "- 리스트와 같이 여러개의 값을 갖는 데이터 컬렉션 타입\n",
        "- 생선된 후에 변경이 불가능"
      ]
    },
    {
      "cell_type": "code",
      "metadata": {
        "colab": {
          "base_uri": "https://localhost:8080/"
        },
        "id": "uVAtBSe83Spj",
        "outputId": "0d478652-7f56-4bb7-e3a0-52a3fc42f635"
      },
      "source": [
        "a = [1,2,3]\n",
        "b = (1,2,3)\n",
        "\n",
        "print(type(a))\n",
        "print(type(b))\n",
        "\n",
        "\n",
        "a[0] = 100\n",
        "print(a)\n",
        "#b[0] = 100"
      ],
      "execution_count": 57,
      "outputs": [
        {
          "output_type": "stream",
          "name": "stdout",
          "text": [
            "<class 'list'>\n",
            "<class 'tuple'>\n",
            "[100, 2, 3]\n"
          ]
        }
      ]
    },
    {
      "cell_type": "code",
      "metadata": {
        "colab": {
          "base_uri": "https://localhost:8080/"
        },
        "id": "82zNaenS32Wu",
        "outputId": "c280e3e3-be21-4448-ffc3-7bbab657601b"
      },
      "source": [
        "a,b,c,d = 10,20,30,40\n",
        "print(a,b,c,d)"
      ],
      "execution_count": 58,
      "outputs": [
        {
          "output_type": "stream",
          "name": "stdout",
          "text": [
            "10 20 30 40\n"
          ]
        }
      ]
    },
    {
      "cell_type": "code",
      "metadata": {
        "id": "RisPQuuG5dl7"
      },
      "source": [
        "a = 4\n",
        "b = 5\n",
        "\n",
        "#temp = a\n",
        "#b = a\n",
        "#a = temp\n",
        "\n",
        "a,b = b,a"
      ],
      "execution_count": 65,
      "outputs": []
    }
  ]
}