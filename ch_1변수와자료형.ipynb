{
  "nbformat": 4,
  "nbformat_minor": 0,
  "metadata": {
    "colab": {
      "name": "Untitled0.ipynb의 사본",
      "provenance": [],
      "collapsed_sections": [],
      "authorship_tag": "ABX9TyN3R+DjPHwSPrAQBrUqxnyy",
      "include_colab_link": true
    },
    "kernelspec": {
      "name": "python3",
      "display_name": "Python 3"
    },
    "language_info": {
      "name": "python"
    }
  },
  "cells": [
    {
      "cell_type": "markdown",
      "metadata": {
        "id": "view-in-github",
        "colab_type": "text"
      },
      "source": [
        "<a href=\"https://colab.research.google.com/github/HongSeJoon/21-2-Python-code/blob/main/ch_1%EB%B3%80%EC%88%98%EC%99%80%EC%9E%90%EB%A3%8C%ED%98%95.ipynb\" target=\"_parent\"><img src=\"https://colab.research.google.com/assets/colab-badge.svg\" alt=\"Open In Colab\"/></a>"
      ]
    },
    {
      "cell_type": "markdown",
      "metadata": {
        "id": "aXXVOI4Pbt9o"
      },
      "source": [
        "# **학습목표**\n",
        "1. python 언어에서 변수의 의미를 이해하기\n",
        "2. 기본 데이터 타입을 선언하기(int,float,str,bool)"
      ]
    },
    {
      "cell_type": "markdown",
      "metadata": {
        "id": "NPmem9o1cyc2"
      },
      "source": [
        "##### **= 대입 연산자**\n",
        "\n",
        "\n",
        "*   대입의 경우,오른쪽의 수식이나 값을 계산한 뒤.\n",
        "왼쪽 변수에 값을 가지게 된다.\n",
        "* 변수는 해당 값을 가지게 된다.  "
      ]
    },
    {
      "cell_type": "code",
      "metadata": {
        "id": "fIfrzlT-dV4U"
      },
      "source": [
        "a = 10 #int\n",
        "b = 11.4 #float"
      ],
      "execution_count": null,
      "outputs": []
    },
    {
      "cell_type": "code",
      "metadata": {
        "colab": {
          "base_uri": "https://localhost:8080/"
        },
        "id": "ZR3T6UKTdgML",
        "outputId": "999effef-8d1b-47bf-e97b-78605fa56db3"
      },
      "source": [
        "print(a)"
      ],
      "execution_count": null,
      "outputs": [
        {
          "output_type": "stream",
          "text": [
            "10\n"
          ],
          "name": "stdout"
        }
      ]
    },
    {
      "cell_type": "markdown",
      "metadata": {
        "id": "451_ShiBe6SO"
      },
      "source": [
        "## **주석(comment)**\n",
        "\n",
        "\n",
        "*  코드에서 #으로 시작하는 뒷부분은 실행 안함\n",
        "*   python이 실행할 때 #만나면 무시\n",
        "*   개발자(사람)이 보기 위한 용도로 사용"
      ]
    },
    {
      "cell_type": "code",
      "metadata": {
        "id": "Ro0WqXtcfYLM"
      },
      "source": [
        "#This lien is important\n",
        "#so don't delete those lines\n",
        "\n",
        "math = 11\n",
        "english = 57.8"
      ],
      "execution_count": null,
      "outputs": []
    },
    {
      "cell_type": "markdown",
      "metadata": {
        "id": "c7_Eot5wgHFW"
      },
      "source": [
        "# **print 함수**\n",
        "* 함수란 특정 기능을 반복적으로\n",
        " 호출하여 사용 가능한 코드 블럭 \n",
        "* 해당 변수 값이 출력\n",
        "* ,로 여러 변수를 나열하면 한줄에 출력\n",
        "* 기본적으로는 한칸 띄어쓰기 후 출력"
      ]
    },
    {
      "cell_type": "code",
      "metadata": {
        "colab": {
          "base_uri": "https://localhost:8080/"
        },
        "id": "mtmWzpJ0gTYm",
        "outputId": "86aa18b8-67e4-4e84-dff5-3baf164feca2"
      },
      "source": [
        "print(a,b)"
      ],
      "execution_count": null,
      "outputs": [
        {
          "output_type": "stream",
          "text": [
            "10 11.4\n"
          ],
          "name": "stdout"
        }
      ]
    },
    {
      "cell_type": "code",
      "metadata": {
        "colab": {
          "base_uri": "https://localhost:8080/"
        },
        "id": "b-rZmyoygvM3",
        "outputId": "8d7c590d-d47e-4cc5-8da1-60aa09e04dcc"
      },
      "source": [
        "print(math,english,20,'박개준')"
      ],
      "execution_count": null,
      "outputs": [
        {
          "output_type": "stream",
          "text": [
            "11 57.8 20 박개준\n"
          ],
          "name": "stdout"
        }
      ]
    },
    {
      "cell_type": "markdown",
      "metadata": {
        "id": "OKRPFAvPhtG2"
      },
      "source": [
        "# **변수 값 확인 방법**\n",
        "1. print() 함수 사용\n",
        "2. 변수 값을 코드의 마지막에 위치 시킨 후 실행\n",
        " - 이 경우 output으로 변수의 값이 출력된다."
      ]
    },
    {
      "cell_type": "code",
      "metadata": {
        "colab": {
          "base_uri": "https://localhost:8080/"
        },
        "id": "xow7UNwuhkxH",
        "outputId": "011eb392-ae36-4bda-cdde-c8b2126f08ad"
      },
      "source": [
        "math\n",
        "english"
      ],
      "execution_count": null,
      "outputs": [
        {
          "output_type": "execute_result",
          "data": {
            "text/plain": [
              "57.8"
            ]
          },
          "metadata": {},
          "execution_count": 12
        }
      ]
    },
    {
      "cell_type": "markdown",
      "metadata": {
        "id": "92nFaQbSjODd"
      },
      "source": [
        "### **변수 이름 규칙** \n",
        "* 영문 대소문자, -, 숫자로 구성 가능\n",
        " - 숫자로 시작은 안된다!\n",
        "* 일반적으로 변수를 표현할 때 정확하고 간결한 이름을 사용하여 쉽게 이해하도록 설정한다.\n",
        " - 예) a = 900 경우보다, hy_student_num 이해가 빠르다."
      ]
    },
    {
      "cell_type": "code",
      "metadata": {
        "id": "-6UQjTWBkK-m"
      },
      "source": [
        "abAB = 100\n",
        "#4_num = 10 숫자로 시작하여 실행안됨\n",
        "ABab = 200\n",
        "_right = 800"
      ],
      "execution_count": null,
      "outputs": []
    },
    {
      "cell_type": "markdown",
      "metadata": {
        "id": "F5Ga30U9lNn3"
      },
      "source": [
        "### **예악어(키워드)**\n",
        "* python에서 미리 선점하여 사용중인 키워드\n",
        "* 변수, 함수, 클래스 등 사용자 정의 이름으로 사용할수 없음"
      ]
    },
    {
      "cell_type": "code",
      "metadata": {
        "colab": {
          "base_uri": "https://localhost:8080/"
        },
        "id": "7jJ9gDD-lmGF",
        "outputId": "445bcab2-7d19-4758-e3ce-2ef5944b6cbb"
      },
      "source": [
        "#for = 10 for은 예악어로 변수 사용 불가\n",
        "_for = 100\n",
        "_for"
      ],
      "execution_count": null,
      "outputs": [
        {
          "output_type": "execute_result",
          "data": {
            "text/plain": [
              "100"
            ]
          },
          "metadata": {},
          "execution_count": 18
        }
      ]
    },
    {
      "cell_type": "markdown",
      "metadata": {
        "id": "Nhi1AfdYnbSe"
      },
      "source": [
        "# **기본 데이터 타임**\n",
        " * 정수(int)\n",
        " * 실수형(float)\n",
        " * 문자일(str)\n",
        " * 불리언(bolean)"
      ]
    },
    {
      "cell_type": "code",
      "metadata": {
        "id": "uwB8dCy9l3DF",
        "colab": {
          "base_uri": "https://localhost:8080/"
        },
        "outputId": "1b4c4e8e-9a75-4edf-9f04-bdb95b5d0bd4"
      },
      "source": [
        "a = 10  #정수형(int)\n",
        "b = 15.6 #실수형(float)\n",
        "c = \"2학기 회장은 세준이\" #문자형\n",
        "d = a > b #불리언( boolean)\n",
        "\n",
        "print(a,b,c,d)"
      ],
      "execution_count": null,
      "outputs": [
        {
          "output_type": "stream",
          "text": [
            "10 15.6 2학기 회장은 세준이 False\n"
          ],
          "name": "stdout"
        }
      ]
    },
    {
      "cell_type": "markdown",
      "metadata": {
        "id": "brD8l42io7Yt"
      },
      "source": [
        "## ** type() 함수**\n",
        "해당 변수,값의 타입(type)을 알고자할 때 사용하는 함수"
      ]
    },
    {
      "cell_type": "code",
      "metadata": {
        "colab": {
          "base_uri": "https://localhost:8080/"
        },
        "id": "AhHHXS3OpLcF",
        "outputId": "284f9660-6e42-460a-c25b-3e57db8cfd9c"
      },
      "source": [
        "print(type(a),type(b),type(c),type(d))"
      ],
      "execution_count": null,
      "outputs": [
        {
          "output_type": "stream",
          "text": [
            "<class 'int'> <class 'float'> <class 'str'> <class 'bool'>\n"
          ],
          "name": "stdout"
        }
      ]
    },
    {
      "cell_type": "markdown",
      "metadata": {
        "id": "wNk9Xc6Xpfbl"
      },
      "source": [
        "### **타입 None**\n",
        "* 아무런 값을 갖지 않을 때 사용\n",
        "* 일반적으로 변수가 초기값을 갖지 않게 하여 해당 변수를 생성할 때 사용\n",
        "* 다른 언어에서는 NULL과 같은 의미로 사용"
      ]
    },
    {
      "cell_type": "code",
      "metadata": {
        "colab": {
          "base_uri": "https://localhost:8080/"
        },
        "id": "4MThXuaaqUln",
        "outputId": "a000c387-3755-4f6a-a26a-eae6f0a53e66"
      },
      "source": [
        "n = None\n",
        "print(n)"
      ],
      "execution_count": null,
      "outputs": [
        {
          "output_type": "stream",
          "text": [
            "None\n"
          ],
          "name": "stdout"
        }
      ]
    },
    {
      "cell_type": "markdown",
      "metadata": {
        "id": "BlX61vVfuhrx"
      },
      "source": [
        "### **비교 연산자**\n",
        "- 프로그래밍에서는 '='이게 아니라, ==를 사용\n",
        "  - 예) 2학기 회장 == 상록 #참\n",
        "-작다,크다(>,<)\n",
        "- 작거나 같다, 크거나 같다 (=>,<=)\n",
        "-같지 않다 (!=)\n",
        "  - 예) 2학기 회장 !=지설 #거짓\n",
        "- 결론적으로 비교 연산자 결과는 bool타빙으로 출력 "
      ]
    },
    {
      "cell_type": "code",
      "metadata": {
        "colab": {
          "base_uri": "https://localhost:8080/"
        },
        "id": "5vW9n-phvlg5",
        "outputId": "ed7a3e8b-a1f4-4e82-e7cb-e5b55a884d24"
      },
      "source": [
        "ss = 76100\n",
        "nv = 434000\n",
        "\n",
        "print(ss>nv)\n",
        "print(ss<nv)\n",
        "print(ss<=nv)\n",
        "print(ss==nv)\n",
        "print(ss!=nv)"
      ],
      "execution_count": null,
      "outputs": [
        {
          "output_type": "stream",
          "text": [
            "False\n",
            "True\n",
            "True\n",
            "False\n",
            "True\n"
          ],
          "name": "stdout"
        }
      ]
    },
    {
      "cell_type": "markdown",
      "metadata": {
        "id": "63FDpRKPw7x5"
      },
      "source": [
        "### **기본연산자**\n",
        "a + b"
      ]
    },
    {
      "cell_type": "code",
      "metadata": {
        "colab": {
          "base_uri": "https://localhost:8080/",
          "height": 136
        },
        "id": "cLwfgQ-Kx6Fg",
        "outputId": "be5fe26c-351c-407f-d4b5-fb8bb953ef3e"
      },
      "source": [
        "print(ss) + nv)\n",
        "print(ss - nv)\n",
        "print(ss * nv)\n",
        "print(ss / nv)\n",
        "print(ss %/> nv)"
      ],
      "execution_count": null,
      "outputs": [
        {
          "output_type": "error",
          "ename": "SyntaxError",
          "evalue": "ignored",
          "traceback": [
            "\u001b[0;36m  File \u001b[0;32m\"<ipython-input-12-6d3a938ea9ca>\"\u001b[0;36m, line \u001b[0;32m1\u001b[0m\n\u001b[0;31m    print(ss) + nv)\u001b[0m\n\u001b[0m                  ^\u001b[0m\n\u001b[0;31mSyntaxError\u001b[0m\u001b[0;31m:\u001b[0m invalid syntax\n"
          ]
        }
      ]
    },
    {
      "cell_type": "code",
      "metadata": {
        "id": "Sa8x9r1y1V4X"
      },
      "source": [
        "-+--------------------------------------------------------------------------------------------------------------------------------------------------------------------------------------------------------------"
      ],
      "execution_count": null,
      "outputs": []
    }
  ]
}