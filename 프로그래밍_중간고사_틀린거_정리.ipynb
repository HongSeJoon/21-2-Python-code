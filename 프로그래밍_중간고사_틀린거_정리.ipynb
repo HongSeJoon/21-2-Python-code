{
  "nbformat": 4,
  "nbformat_minor": 0,
  "metadata": {
    "colab": {
      "name": "프로그래밍 중간고사 틀린거 정리.ipynb",
      "provenance": [],
      "collapsed_sections": [],
      "authorship_tag": "ABX9TyP5LMeuNzaX6ySa7yeiTSjO",
      "include_colab_link": true
    },
    "kernelspec": {
      "name": "python3",
      "display_name": "Python 3"
    },
    "language_info": {
      "name": "python"
    }
  },
  "cells": [
    {
      "cell_type": "markdown",
      "metadata": {
        "id": "view-in-github",
        "colab_type": "text"
      },
      "source": [
        "<a href=\"https://colab.research.google.com/github/HongSeJoon/21-2-Python-code/blob/main/%ED%94%84%EB%A1%9C%EA%B7%B8%EB%9E%98%EB%B0%8D_%EC%A4%91%EA%B0%84%EA%B3%A0%EC%82%AC_%ED%8B%80%EB%A6%B0%EA%B1%B0_%EC%A0%95%EB%A6%AC.ipynb\" target=\"_parent\"><img src=\"https://colab.research.google.com/assets/colab-badge.svg\" alt=\"Open In Colab\"/></a>"
      ]
    },
    {
      "cell_type": "code",
      "metadata": {
        "colab": {
          "base_uri": "https://localhost:8080/"
        },
        "id": "qxq5AueRvDB6",
        "outputId": "f3f5def1-c883-439a-d862-5215e1bdf2eb"
      },
      "source": [
        "#5. 문자열 인덱싱\n",
        "s = \"Hellp Hanyang!\"\n",
        "print(s[5], s[-5])"
      ],
      "execution_count": 5,
      "outputs": [
        {
          "output_type": "stream",
          "name": "stdout",
          "text": [
            "  y\n"
          ]
        }
      ]
    },
    {
      "cell_type": "code",
      "metadata": {
        "id": "ShFe-CIx1sBM"
      },
      "source": [
        "#8. 파이썬 자료형\n",
        "#리스트,튜플,딕셔너리,셋"
      ],
      "execution_count": null,
      "outputs": []
    },
    {
      "cell_type": "code",
      "metadata": {
        "colab": {
          "base_uri": "https://localhost:8080/"
        },
        "id": "4bzDNXx13a4S",
        "outputId": "062d50c3-bed2-45bd-dadc-35c75ca4ee64"
      },
      "source": [
        "#9. 리스트\n",
        "a = ['a',1,'python',(1,2),'2',[1,2]]\n",
        "print(a[3])\n",
        "print(1 in a, 2 in a)"
      ],
      "execution_count": 9,
      "outputs": [
        {
          "output_type": "stream",
          "name": "stdout",
          "text": [
            "(1, 2)\n",
            "True False\n"
          ]
        }
      ]
    },
    {
      "cell_type": "code",
      "metadata": {
        "colab": {
          "base_uri": "https://localhost:8080/"
        },
        "id": "Cp2woEFM3ody",
        "outputId": "0459e290-5424-49cc-e3dc-53e4fcf4b7e7"
      },
      "source": [
        "#10. 파이썬 코드\n",
        "nums = list(range(4))\n",
        "print(nums)\n",
        "nums.insert(3,100)\n",
        "print(nums)"
      ],
      "execution_count": 10,
      "outputs": [
        {
          "output_type": "stream",
          "name": "stdout",
          "text": [
            "[0, 1, 2, 3]\n",
            "[0, 1, 2, 100, 3]\n"
          ]
        }
      ]
    },
    {
      "cell_type": "code",
      "metadata": {
        "colab": {
          "base_uri": "https://localhost:8080/"
        },
        "id": "m1Pe3ThZ5qTp",
        "outputId": "cc9def26-a9f7-45c0-c9d2-7848113d9498"
      },
      "source": [
        "#12. 딕셔너리 \n",
        "a = {'han':1, 1:2, '1':3}\n",
        "a[1] = 'yang'\n",
        "print(a)"
      ],
      "execution_count": 12,
      "outputs": [
        {
          "output_type": "stream",
          "name": "stdout",
          "text": [
            "{'han': 1, 1: 'yang', '1': 3}\n"
          ]
        }
      ]
    },
    {
      "cell_type": "code",
      "metadata": {
        "colab": {
          "base_uri": "https://localhost:8080/"
        },
        "id": "iBDeky3L6TFi",
        "outputId": "2a1f876a-83cc-4dfd-9ae2-9729ba0ef852"
      },
      "source": [
        "#13. 셋\n",
        "b = set('Hello')\n",
        "print(b)"
      ],
      "execution_count": 17,
      "outputs": [
        {
          "output_type": "stream",
          "name": "stdout",
          "text": [
            "{'o', 'e', 'l', 'H'}\n"
          ]
        }
      ]
    },
    {
      "cell_type": "code",
      "metadata": {
        "colab": {
          "base_uri": "https://localhost:8080/"
        },
        "id": "DiEJTCUn7V1o",
        "outputId": "7c7f978f-482f-4064-c407-a46c5c298f0f"
      },
      "source": [
        "#15. \n",
        "room = [[0,0,1,0,9],\n",
        "       [1,0,1,0,1],\n",
        "       [0,1,1,1,9]]\n",
        "mouse = room[0][2]\n",
        "\n",
        "if mouse == 1:\n",
        "  print(\"cheese\")\n",
        "elif mouse == 0:\n",
        "  print(\"trap\")\n",
        "else : \n",
        "  print(nothing)"
      ],
      "execution_count": 20,
      "outputs": [
        {
          "output_type": "stream",
          "name": "stdout",
          "text": [
            "cheese\n"
          ]
        }
      ]
    },
    {
      "cell_type": "code",
      "metadata": {
        "colab": {
          "base_uri": "https://localhost:8080/"
        },
        "id": "PvXjju0bDhek",
        "outputId": "88fa9061-cae0-4df3-b13c-052d902600aa"
      },
      "source": [
        "#17. \n",
        "a = 0\n",
        "b = 0\n",
        "\n",
        "for i in range(3,9):\n",
        "  if i%2 == 0 and i%3 == 0:\n",
        "    continue\n",
        "  elif i%2 == 0:\n",
        "    a += 1\n",
        "  elif i%3 == 0:\n",
        "    b += 1\n",
        "print(a,b)"
      ],
      "execution_count": 21,
      "outputs": [
        {
          "output_type": "stream",
          "name": "stdout",
          "text": [
            "2 1\n"
          ]
        }
      ]
    },
    {
      "cell_type": "code",
      "metadata": {
        "colab": {
          "base_uri": "https://localhost:8080/"
        },
        "id": "lEjmlVi1F5ab",
        "outputId": "60b3723d-2f76-4bea-bddd-00ef38ee2586"
      },
      "source": [
        "#19. \n",
        "print(\"메뉴번호 1.쿠키(300원) 2.짬뽕(500) 3.치킨(700)\")\n",
        "\n",
        "money = int(input(\"투입금액:\"))\n",
        "menu = int(input(\"메뉴번호:\"))\n",
        "\n",
        "if menu == 1:\n",
        "  money -= 300\n",
        "elif menu == 2:\n",
        "  money -= 500\n",
        "elif menu == 3:\n",
        "  money -= 700\n",
        "\n",
        "\n",
        "if money < 0:\n",
        "  print(\"금액이 부족합니다.\")\n",
        "else :\n",
        "  won1000 = money//1000\n",
        "  won500 = (money%1000)//500\n",
        "  won100 = ((money%1000)%500)//100\n",
        "  print(\"거스름돈: 1000원 {}개, 500원 {}개, 100원 {}개\".format(won1000,won500,won100))"
      ],
      "execution_count": 30,
      "outputs": [
        {
          "output_type": "stream",
          "name": "stdout",
          "text": [
            "메뉴번호 1.쿠키(300원) 2.짬뽕(500) 3.치킨(700)\n",
            "투입금액:5000\n",
            "메뉴번호:2\n",
            "거스름돈: 1000원 4개, 500원 1개, 100원 0개\n"
          ]
        }
      ]
    }
  ]
}