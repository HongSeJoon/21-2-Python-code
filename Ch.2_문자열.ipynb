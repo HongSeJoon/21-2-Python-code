{
  "nbformat": 4,
  "nbformat_minor": 0,
  "metadata": {
    "colab": {
      "name": "Untitled1.ipynb",
      "provenance": [],
      "collapsed_sections": [],
      "authorship_tag": "ABX9TyPXKEA6kMmKuZDxAdcMsBbr",
      "include_colab_link": true
    },
    "kernelspec": {
      "name": "python3",
      "display_name": "Python 3"
    },
    "language_info": {
      "name": "python"
    }
  },
  "cells": [
    {
      "cell_type": "markdown",
      "metadata": {
        "id": "view-in-github",
        "colab_type": "text"
      },
      "source": [
        "<a href=\"https://colab.research.google.com/github/HongSeJoon/21-2-Python-code/blob/main/Ch.2_%EB%AC%B8%EC%9E%90%EC%97%B4.ipynb\" target=\"_parent\"><img src=\"https://colab.research.google.com/assets/colab-badge.svg\" alt=\"Open In Colab\"/></a>"
      ]
    },
    {
      "cell_type": "markdown",
      "metadata": {
        "id": "_7k5230M9THE"
      },
      "source": [
        "# **학습목표 *\n",
        "\n",
        " 1.문자열(str) 타입 이해하기\n",
        " "
      ]
    },
    {
      "cell_type": "markdown",
      "metadata": {
        "id": "_Vx1sycE9wzB"
      },
      "source": [
        "### **문자열(str)**\n",
        "- 여러 개의 문자를 순서대로 나열한 것\n",
        "- 문자열은'(작은따옴표)' 혹은 \"\"(큰따옴표) 사이에 문자를 넣어서 생성\n",
        "  - ',\" 차이점\n",
        "- 문자열 자체에 ',\" 있는 경우에는 그 반대의 기호로 생성\n",
        "- ''',\"\"\" (여러번 쓸 경우)\n",
        "- 문자열 자체에 ',\" 있을 경우에는 그 반대의 기호로 생성"
      ]
    },
    {
      "cell_type": "code",
      "metadata": {
        "colab": {
          "base_uri": "https://localhost:8080/"
        },
        "id": "9T-F3klv-VmC",
        "outputId": "c3085b64-10bf-4f43-e2a1-6951282214c2"
      },
      "source": [
        "a = \"Hello' World!\"\n",
        "b = 'Hello\" World!'\n",
        "\n",
        "c = '''Hello World\n",
        "\n",
        "it is Se Jon'''\n",
        "\n",
        "d = \"\"\" Hello World\n",
        "\n",
        "it is Se Joon\"\"\"\n",
        "\n",
        "print(a)\n",
        "print(b)\n",
        "print(c)\n",
        "print(d)"
      ],
      "execution_count": 8,
      "outputs": [
        {
          "output_type": "stream",
          "text": [
            "Hello' World!\n",
            "Hello\" World!\n",
            "Hello World\n",
            "\n",
            "it is Se Jon\n",
            " Hello World\n",
            "\n",
            "it is Se Joon\n"
          ],
          "name": "stdout"
        }
      ]
    },
    {
      "cell_type": "markdown",
      "metadata": {
        "id": "XtCWNK1NA73Q"
      },
      "source": [
        "**이스케이프 문자**\n",
        "- 탈출 효과를 주기 위해 문자열 내부에 넣는다\n",
        "* `\\n`: 엔터 (다음줄)\n",
        "* `\\t`: tab"
      ]
    },
    {
      "cell_type": "code",
      "metadata": {
        "colab": {
          "base_uri": "https://localhost:8080/"
        },
        "id": "s3eIV7X4B3_I",
        "outputId": "2a3ea490-cdef-4e58-ff3b-42250e1ed9e1"
      },
      "source": [
        "print('Hello\\n\\nworld')\n",
        "print('이렇게 엔터를 \\n치면 됩니다')\n",
        "print('2학기 회장: \\t 오상록')\n",
        "print('1학기 회장: \\t 전지설')"
      ],
      "execution_count": 11,
      "outputs": [
        {
          "output_type": "stream",
          "text": [
            "Hello\n",
            "\n",
            "world\n",
            "이렇게 엔터를 \n",
            "치면 됩니다\n",
            "2학기 회장: \t 오상록\n",
            "1학기 회장: \t 전지설\n"
          ],
          "name": "stdout"
        }
      ]
    }
  ]
}